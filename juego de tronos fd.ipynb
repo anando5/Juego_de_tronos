{
 "cells": [
  {
   "cell_type": "code",
   "execution_count": 6,
   "metadata": {
    "collapsed": false
   },
   "outputs": [],
   "source": [
    "%matplotlib inline\n",
    "import seaborn\n",
    "import pandas as pd\n",
    "import numpy\n",
    "import scipy.stats\n",
    "import statsmodels.stats.multicomp as multi\n",
    "import statsmodels.formula.api as smf\n",
    "\n",
    "data = pd.read_csv(\"battles.csv\")\n",
    "gotD = pd.read_csv(\"Got_ Data.csv\")\n",
    "data1 = pd.read_csv(\"stormofswords.csv\")\n"
   ]
  },
  {
   "cell_type": "code",
   "execution_count": 7,
   "metadata": {
    "collapsed": false
   },
   "outputs": [
    {
     "data": {
      "text/html": [
       "<div>\n",
       "<table border=\"1\" class=\"dataframe\">\n",
       "  <thead>\n",
       "    <tr style=\"text-align: right;\">\n",
       "      <th></th>\n",
       "      <th>Source</th>\n",
       "      <th>Target</th>\n",
       "      <th>Weight</th>\n",
       "    </tr>\n",
       "  </thead>\n",
       "  <tbody>\n",
       "    <tr>\n",
       "      <th>0</th>\n",
       "      <td>Aemon</td>\n",
       "      <td>Grenn</td>\n",
       "      <td>5</td>\n",
       "    </tr>\n",
       "    <tr>\n",
       "      <th>1</th>\n",
       "      <td>Aemon</td>\n",
       "      <td>Samwell</td>\n",
       "      <td>31</td>\n",
       "    </tr>\n",
       "    <tr>\n",
       "      <th>2</th>\n",
       "      <td>Aerys</td>\n",
       "      <td>Jaime</td>\n",
       "      <td>18</td>\n",
       "    </tr>\n",
       "    <tr>\n",
       "      <th>3</th>\n",
       "      <td>Aerys</td>\n",
       "      <td>Robert</td>\n",
       "      <td>6</td>\n",
       "    </tr>\n",
       "    <tr>\n",
       "      <th>4</th>\n",
       "      <td>Aerys</td>\n",
       "      <td>Tyrion</td>\n",
       "      <td>5</td>\n",
       "    </tr>\n",
       "    <tr>\n",
       "      <th>5</th>\n",
       "      <td>Aerys</td>\n",
       "      <td>Tywin</td>\n",
       "      <td>8</td>\n",
       "    </tr>\n",
       "    <tr>\n",
       "      <th>6</th>\n",
       "      <td>Alliser</td>\n",
       "      <td>Mance</td>\n",
       "      <td>5</td>\n",
       "    </tr>\n",
       "    <tr>\n",
       "      <th>7</th>\n",
       "      <td>Amory</td>\n",
       "      <td>Oberyn</td>\n",
       "      <td>5</td>\n",
       "    </tr>\n",
       "    <tr>\n",
       "      <th>8</th>\n",
       "      <td>Arya</td>\n",
       "      <td>Anguy</td>\n",
       "      <td>11</td>\n",
       "    </tr>\n",
       "    <tr>\n",
       "      <th>9</th>\n",
       "      <td>Arya</td>\n",
       "      <td>Beric</td>\n",
       "      <td>23</td>\n",
       "    </tr>\n",
       "  </tbody>\n",
       "</table>\n",
       "</div>"
      ],
      "text/plain": [
       "    Source   Target  Weight\n",
       "0    Aemon    Grenn       5\n",
       "1    Aemon  Samwell      31\n",
       "2    Aerys    Jaime      18\n",
       "3    Aerys   Robert       6\n",
       "4    Aerys   Tyrion       5\n",
       "5    Aerys    Tywin       8\n",
       "6  Alliser    Mance       5\n",
       "7    Amory   Oberyn       5\n",
       "8     Arya    Anguy      11\n",
       "9     Arya    Beric      23"
      ]
     },
     "execution_count": 7,
     "metadata": {},
     "output_type": "execute_result"
    }
   ],
   "source": [
    "data1.head(n=10)"
   ]
  },
  {
   "cell_type": "code",
   "execution_count": 8,
   "metadata": {
    "collapsed": false
   },
   "outputs": [],
   "source": [
    "bytreatment = data1.groupby('Source')"
   ]
  },
  {
   "cell_type": "code",
   "execution_count": 9,
   "metadata": {
    "collapsed": false
   },
   "outputs": [
    {
     "data": {
      "text/plain": [
       "Source        \n",
       "Aemon    count     2.000000\n",
       "         mean     18.000000\n",
       "         std      18.384776\n",
       "         min       5.000000\n",
       "         25%      11.500000\n",
       "         50%      18.000000\n",
       "         75%      24.500000\n",
       "         max      31.000000\n",
       "Aerys    count     4.000000\n",
       "         mean      9.250000\n",
       "         std       5.965177\n",
       "         min       5.000000\n",
       "         25%       5.750000\n",
       "         50%       7.000000\n",
       "         75%      10.500000\n",
       "         max      18.000000\n",
       "Alliser  count     1.000000\n",
       "         mean      5.000000\n",
       "         std            NaN\n",
       "         min       5.000000\n",
       "         25%       5.000000\n",
       "         50%       5.000000\n",
       "         75%       5.000000\n",
       "         max       5.000000\n",
       "Amory    count     1.000000\n",
       "         mean      5.000000\n",
       "         std            NaN\n",
       "         min       5.000000\n",
       "         25%       5.000000\n",
       "         50%       5.000000\n",
       "                    ...    \n",
       "Viserys  std       2.121320\n",
       "         min       4.000000\n",
       "         25%       4.750000\n",
       "         50%       5.500000\n",
       "         75%       6.250000\n",
       "         max       7.000000\n",
       "Walder   count     3.000000\n",
       "         mean      8.000000\n",
       "         std       3.464102\n",
       "         min       6.000000\n",
       "         25%       6.000000\n",
       "         50%       6.000000\n",
       "         75%       9.000000\n",
       "         max      12.000000\n",
       "Walton   count     1.000000\n",
       "         mean     10.000000\n",
       "         std            NaN\n",
       "         min      10.000000\n",
       "         25%      10.000000\n",
       "         50%      10.000000\n",
       "         75%      10.000000\n",
       "         max      10.000000\n",
       "Ygritte  count     2.000000\n",
       "         mean      8.000000\n",
       "         std       1.414214\n",
       "         min       7.000000\n",
       "         25%       7.500000\n",
       "         50%       8.000000\n",
       "         75%       8.500000\n",
       "         max       9.000000\n",
       "dtype: float64"
      ]
     },
     "execution_count": 9,
     "metadata": {},
     "output_type": "execute_result"
    }
   ],
   "source": [
    "bytreatment['Weight'].describe()"
   ]
  },
  {
   "cell_type": "code",
   "execution_count": 13,
   "metadata": {
    "collapsed": false
   },
   "outputs": [
    {
     "data": {
      "text/plain": [
       "Source         \n",
       "Aemon    count               2\n",
       "         unique              2\n",
       "         top           Samwell\n",
       "         freq                1\n",
       "Aerys    count               4\n",
       "         unique              4\n",
       "         top             Tywin\n",
       "         freq                1\n",
       "Alliser  count               1\n",
       "         unique              1\n",
       "         top             Mance\n",
       "         freq                1\n",
       "Amory    count               1\n",
       "         unique              1\n",
       "         top            Oberyn\n",
       "         freq                1\n",
       "Arya     count              16\n",
       "         unique             16\n",
       "         top           Joffrey\n",
       "         freq                1\n",
       "Balon    count               1\n",
       "         unique              1\n",
       "         top             Loras\n",
       "         freq                1\n",
       "Belwas   count               2\n",
       "         unique              2\n",
       "         top           Illyrio\n",
       "         freq                1\n",
       "Beric    count               3\n",
       "         unique              3\n",
       "                      ...     \n",
       "Tyrion   top             Loras\n",
       "         freq                1\n",
       "Tywin    count              19\n",
       "         unique             19\n",
       "         top             Balon\n",
       "         freq                1\n",
       "Val      count               1\n",
       "         unique              1\n",
       "         top             Dalla\n",
       "         freq                1\n",
       "Varys    count               1\n",
       "         unique              1\n",
       "         top           Pycelle\n",
       "         freq                1\n",
       "Viserys  count               2\n",
       "         unique              2\n",
       "         top            Tyrion\n",
       "         freq                1\n",
       "Walder   count               3\n",
       "         unique              3\n",
       "         top            Lothar\n",
       "         freq                1\n",
       "Walton   count               1\n",
       "         unique              1\n",
       "         top             Jaime\n",
       "         freq                1\n",
       "Ygritte  count               2\n",
       "         unique              2\n",
       "         top       Rattleshirt\n",
       "         freq                1\n",
       "dtype: object"
      ]
     },
     "execution_count": 13,
     "metadata": {},
     "output_type": "execute_result"
    }
   ],
   "source": [
    "bytreatment['Target'].describe()"
   ]
  },
  {
   "cell_type": "code",
   "execution_count": 15,
   "metadata": {
    "collapsed": false
   },
   "outputs": [
    {
     "name": "stdout",
     "output_type": "stream",
     "text": [
      "ataques\n",
      "Bolton                         2\n",
      "Lannister                      8\n",
      "Frey                           2\n",
      "Stark                          8\n",
      "Bracken                        1\n",
      "Brotherhood without Banners    1\n",
      "Darry                          1\n",
      "Free folk                      1\n",
      "Brave Companions               1\n",
      "Baratheon                      6\n",
      "Greyjoy                        7\n",
      "Name: attacker_1, dtype: int64\n"
     ]
    }
   ],
   "source": [
    "print ('ataques')\n",
    "c1 = data[\"attacker_1\"].value_counts(sort=False, dropna=False)\n",
    "print(c1)"
   ]
  },
  {
   "cell_type": "code",
   "execution_count": 16,
   "metadata": {
    "collapsed": false
   },
   "outputs": [],
   "source": [
    "data['attacker_1'].fillna(11, inplace=True)\n",
    "#recode 99 values as missing\n",
    "data['attacker_1']=data['attacker_1'].replace(99, numpy.nan)"
   ]
  },
  {
   "cell_type": "code",
   "execution_count": 18,
   "metadata": {
    "collapsed": false
   },
   "outputs": [
    {
     "name": "stdout",
     "output_type": "stream",
     "text": [
      "Ataques por casa\n",
      "Bolton                         2\n",
      "Lannister                      8\n",
      "Frey                           2\n",
      "Stark                          8\n",
      "Bracken                        1\n",
      "Brotherhood without Banners    1\n",
      "Darry                          1\n",
      "Free folk                      1\n",
      "Brave Companions               1\n",
      "Baratheon                      6\n",
      "Greyjoy                        7\n",
      "Name: attacker_1, dtype: int64\n",
      "count        38\n",
      "unique       11\n",
      "top       Stark\n",
      "freq          8\n",
      "Name: attacker_1, dtype: object\n"
     ]
    }
   ],
   "source": [
    "print ('Ataques por casa')\n",
    "# check coding\n",
    "chk2 = data['attacker_1'].value_counts(sort=False, dropna=False)\n",
    "print(chk2)\n",
    "ds2= data[\"attacker_1\"].describe()\n",
    "print(ds2)"
   ]
  },
  {
   "cell_type": "code",
   "execution_count": 21,
   "metadata": {
    "collapsed": false
   },
   "outputs": [
    {
     "name": "stdout",
     "output_type": "stream",
     "text": [
      "ataques\n",
      "Bolton                         2\n",
      "Lannister                      8\n",
      "Frey                           2\n",
      "Stark                          8\n",
      "Bracken                        1\n",
      "Brotherhood without Banners    1\n",
      "Darry                          1\n",
      "Free folk                      1\n",
      "Brave Companions               1\n",
      "Baratheon                      6\n",
      "Greyjoy                        7\n",
      "Name: attacker_1, dtype: int64\n",
      "porcentajes por ataque\n",
      "Bolton                         0.052632\n",
      "Lannister                      0.210526\n",
      "Frey                           0.052632\n",
      "Stark                          0.210526\n",
      "Bracken                        0.026316\n",
      "Brotherhood without Banners    0.026316\n",
      "Darry                          0.026316\n",
      "Free folk                      0.026316\n",
      "Brave Companions               0.026316\n",
      "Baratheon                      0.157895\n",
      "Greyjoy                        0.184211\n",
      "Name: attacker_1, dtype: float64\n"
     ]
    }
   ],
   "source": [
    "# distribucion de frecuencia por ataques\n",
    "print ('ataques')\n",
    "c3 = data['attacker_1'].value_counts(sort=False)\n",
    "print(c3)\n",
    "\n",
    "print ('porcentajes por ataque')\n",
    "p3 = data['attacker_1'].value_counts(sort=False, normalize=True)\n",
    "print (p3)"
   ]
  },
  {
   "cell_type": "code",
   "execution_count": 6,
   "metadata": {
    "collapsed": false
   },
   "outputs": [
    {
     "name": "stdout",
     "output_type": "stream",
     "text": [
      "attacker_1\n",
      "Baratheon                      6\n",
      "Bolton                         2\n",
      "Bracken                        1\n",
      "Brave Companions               1\n",
      "Brotherhood without Banners    1\n",
      "Darry                          1\n",
      "Free folk                      1\n",
      "Frey                           2\n",
      "Greyjoy                        7\n",
      "Lannister                      8\n",
      "Stark                          8\n",
      "dtype: int64\n"
     ]
    }
   ],
   "source": [
    "c3 =data.groupby(\"attacker_1\").size()\n",
    "print (c3)"
   ]
  },
  {
   "cell_type": "code",
   "execution_count": 7,
   "metadata": {
    "collapsed": false
   },
   "outputs": [
    {
     "name": "stdout",
     "output_type": "stream",
     "text": [
      "                              year  battle_number  defender_3  defender_4  \\\n",
      "attacker_1                                                                  \n",
      "Baratheon                    300.0           32.5         NaN         NaN   \n",
      "Bolton                       299.5           21.5         NaN         NaN   \n",
      "Bracken                      300.0           37.0         NaN         NaN   \n",
      "Brave Companions             300.0           30.0         NaN         NaN   \n",
      "Brotherhood without Banners  299.0           23.0         NaN         NaN   \n",
      "Darry                        299.0           21.0         NaN         NaN   \n",
      "Free folk                    300.0           28.0         NaN         NaN   \n",
      "Frey                         299.0           26.5         NaN         NaN   \n",
      "Greyjoy                      299.0           12.0         NaN         NaN   \n",
      "Lannister                    298.5           12.0         NaN         NaN   \n",
      "Stark                        299.0           13.0         NaN         NaN   \n",
      "\n",
      "                             major_death  major_capture  attacker_size  \\\n",
      "attacker_1                                                               \n",
      "Baratheon                            0.0            0.0         5000.0   \n",
      "Bolton                               0.5            0.0          618.0   \n",
      "Bracken                              0.0            1.0         1500.0   \n",
      "Brave Companions                     0.0            0.0            NaN   \n",
      "Brotherhood without Banners          0.0            0.0            NaN   \n",
      "Darry                                0.0            0.0            NaN   \n",
      "Free folk                            1.0            1.0       100000.0   \n",
      "Frey                                 0.5            1.0         3500.0   \n",
      "Greyjoy                              0.0            0.0          264.0   \n",
      "Lannister                            0.0            0.0        15000.0   \n",
      "Stark                                1.0            0.0         4500.0   \n",
      "\n",
      "                             defender_size  summer  \n",
      "attacker_1                                          \n",
      "Baratheon                           7250.0     0.0  \n",
      "Bolton                              2000.0     0.5  \n",
      "Bracken                                NaN     0.0  \n",
      "Brave Companions                       NaN     0.0  \n",
      "Brotherhood without Banners            NaN     1.0  \n",
      "Darry                                  NaN     1.0  \n",
      "Free folk                           1240.0     0.0  \n",
      "Frey                                3500.0     1.0  \n",
      "Greyjoy                                NaN     1.0  \n",
      "Lannister                           6000.0     1.0  \n",
      "Stark                               8000.0     1.0  \n"
     ]
    }
   ],
   "source": [
    "median =data.groupby(\"attacker_1\").median()\n",
    "print (median)"
   ]
  },
  {
   "cell_type": "code",
   "execution_count": 8,
   "metadata": {
    "collapsed": false
   },
   "outputs": [
    {
     "name": "stdout",
     "output_type": "stream",
     "text": [
      "                                                     name  year  \\\n",
      "attacker_1                                                        \n",
      "Baratheon                             Siege of Winterfell   300   \n",
      "Bolton                                 Sack of Winterfell   300   \n",
      "Bracken                                Siege of Raventree   300   \n",
      "Brave Companions                         Sack of Saltpans   300   \n",
      "Brotherhood without Banners  Battle of the Burning Septry   299   \n",
      "Darry                                      Siege of Darry   299   \n",
      "Free folk                          Battle of Castle Black   300   \n",
      "Frey                                      The Red Wedding   299   \n",
      "Greyjoy                          Sack of Torrhen's Square   300   \n",
      "Lannister                               Siege of Riverrun   300   \n",
      "Stark                                   Sack of Harrenhal   299   \n",
      "\n",
      "                             battle_number             attacker_king  \\\n",
      "attacker_1                                                             \n",
      "Baratheon                               38         Stannis Baratheon   \n",
      "Bolton                                  29  Joffrey/Tommen Baratheon   \n",
      "Bracken                                 37  Joffrey/Tommen Baratheon   \n",
      "Brave Companions                        30                       NaN   \n",
      "Brotherhood without Banners             23                       NaN   \n",
      "Darry                                   21                Robb Stark   \n",
      "Free folk                               28         Stannis Baratheon   \n",
      "Frey                                    27                Robb Stark   \n",
      "Greyjoy                                 33       Balon/Euron Greyjoy   \n",
      "Lannister                               36  Joffrey/Tommen Baratheon   \n",
      "Stark                                   22                Robb Stark   \n",
      "\n",
      "                                   defender_1  defender_3  defender_4  \\\n",
      "attacker_1                                                              \n",
      "Baratheon                           Lannister         NaN         NaN   \n",
      "Bolton                                  Stark         NaN         NaN   \n",
      "Bracken                             Blackwood         NaN         NaN   \n",
      "Brave Companions                          NaN         NaN         NaN   \n",
      "Brotherhood without Banners  Brave Companions         NaN         NaN   \n",
      "Darry                               Lannister         NaN         NaN   \n",
      "Free folk                       Night's Watch         NaN         NaN   \n",
      "Frey                                    Stark         NaN         NaN   \n",
      "Greyjoy                                Tyrell         NaN         NaN   \n",
      "Lannister                               Tully         NaN         NaN   \n",
      "Stark                               Lannister         NaN         NaN   \n",
      "\n",
      "                             major_death  major_capture  attacker_size  \\\n",
      "attacker_1                                                               \n",
      "Baratheon                            1.0            1.0        21000.0   \n",
      "Bolton                               1.0            0.0          618.0   \n",
      "Bracken                              0.0            1.0         1500.0   \n",
      "Brave Companions                     0.0            0.0            NaN   \n",
      "Brotherhood without Banners          0.0            0.0            NaN   \n",
      "Darry                                0.0            0.0            NaN   \n",
      "Free folk                            1.0            1.0       100000.0   \n",
      "Frey                                 1.0            1.0         3500.0   \n",
      "Greyjoy                              0.0            1.0         1000.0   \n",
      "Lannister                            1.0            1.0        20000.0   \n",
      "Stark                                1.0            1.0        18000.0   \n",
      "\n",
      "                             defender_size  \\\n",
      "attacker_1                                   \n",
      "Baratheon                          20000.0   \n",
      "Bolton                              2000.0   \n",
      "Bracken                                NaN   \n",
      "Brave Companions                       NaN   \n",
      "Brotherhood without Banners            NaN   \n",
      "Darry                                  NaN   \n",
      "Free folk                           1240.0   \n",
      "Frey                                3500.0   \n",
      "Greyjoy                                NaN   \n",
      "Lannister                          10000.0   \n",
      "Stark                              20000.0   \n",
      "\n",
      "                                                            attacker_commander  \\\n",
      "attacker_1                                                                       \n",
      "Baratheon                    Stannis Baratheon, Imry Florent, Guyard Morrig...   \n",
      "Bolton                                                           Ramsey Bolton   \n",
      "Bracken                                         Jonos Bracken, Jaime Lannister   \n",
      "Brave Companions                                                         Rorge   \n",
      "Brotherhood without Banners                                                NaN   \n",
      "Darry                                                          Helman Tallhart   \n",
      "Free folk                    Mance Rayder, Tormund Giantsbane, Harma Dogshe...   \n",
      "Frey                                  Walder Frey, Roose Bolton, Walder Rivers   \n",
      "Greyjoy                                                      Victarion Greyjoy   \n",
      "Lannister                    Tywin Lannister, Flement Brax, Gregor Clegane,...   \n",
      "Stark                        Roose Bolton, Wylis Manderly, Medger Cerwyn, H...   \n",
      "\n",
      "                             summer         location           region  \n",
      "attacker_1                                                             \n",
      "Baratheon                       1.0       Winterfell   The Stormlands  \n",
      "Bolton                          1.0       Winterfell        The North  \n",
      "Bracken                         0.0        Raventree   The Riverlands  \n",
      "Brave Companions                0.0         Saltpans   The Riverlands  \n",
      "Brotherhood without Banners     1.0              NaN   The Riverlands  \n",
      "Darry                           1.0            Darry   The Riverlands  \n",
      "Free folk                       0.0     Castle Black  Beyond the Wall  \n",
      "Frey                            1.0        The Twins   The Riverlands  \n",
      "Greyjoy                         1.0       Winterfell        The Reach  \n",
      "Lannister                       1.0        Ruby Ford  The Westerlands  \n",
      "Stark                           1.0  Whispering Wood  The Westerlands  \n"
     ]
    }
   ],
   "source": [
    "median1 =data.groupby(\"attacker_1\").max()\n",
    "print (median1)"
   ]
  },
  {
   "cell_type": "code",
   "execution_count": 9,
   "metadata": {
    "collapsed": false
   },
   "outputs": [
    {
     "name": "stdout",
     "output_type": "stream",
     "text": [
      "                                 year  battle_number  defender_3  defender_4  \\\n",
      "attacker_1                                                                     \n",
      "Baratheon                    0.516398       8.899438         NaN         NaN   \n",
      "Bolton                       0.707107      10.606602         NaN         NaN   \n",
      "Bracken                           NaN            NaN         NaN         NaN   \n",
      "Brave Companions                  NaN            NaN         NaN         NaN   \n",
      "Brotherhood without Banners       NaN            NaN         NaN         NaN   \n",
      "Darry                             NaN            NaN         NaN         NaN   \n",
      "Free folk                         NaN            NaN         NaN         NaN   \n",
      "Frey                         0.000000       0.707107         NaN         NaN   \n",
      "Greyjoy                      0.487950      10.919620         NaN         NaN   \n",
      "Lannister                    0.744024      13.070550         NaN         NaN   \n",
      "Stark                        0.517549       6.989788         NaN         NaN   \n",
      "\n",
      "                             major_death  major_capture  attacker_size  \\\n",
      "attacker_1                                                               \n",
      "Baratheon                       0.547723       0.447214    7648.529270   \n",
      "Bolton                          0.707107       0.000000            NaN   \n",
      "Bracken                              NaN            NaN            NaN   \n",
      "Brave Companions                     NaN            NaN            NaN   \n",
      "Brotherhood without Banners          NaN            NaN            NaN   \n",
      "Darry                                NaN            NaN            NaN   \n",
      "Free folk                            NaN            NaN            NaN   \n",
      "Frey                            0.707107       0.000000            NaN   \n",
      "Greyjoy                         0.000000       0.487950     510.168600   \n",
      "Lannister                       0.517549       0.353553    7228.416147   \n",
      "Stark                           0.517549       0.517549    5759.581035   \n",
      "\n",
      "                             defender_size    summer  \n",
      "attacker_1                                            \n",
      "Baratheon                      8100.277773  0.516398  \n",
      "Bolton                                 NaN  0.707107  \n",
      "Bracken                                NaN       NaN  \n",
      "Brave Companions                       NaN       NaN  \n",
      "Brotherhood without Banners            NaN       NaN  \n",
      "Darry                                  NaN       NaN  \n",
      "Free folk                              NaN       NaN  \n",
      "Frey                                   NaN  0.000000  \n",
      "Greyjoy                                NaN  0.487950  \n",
      "Lannister                      4200.342843  0.377964  \n",
      "Stark                          7560.033344  0.000000  \n"
     ]
    }
   ],
   "source": [
    "median2 =data.groupby(\"attacker_1\").std()\n",
    "print (median2)"
   ]
  },
  {
   "cell_type": "code",
   "execution_count": 10,
   "metadata": {
    "collapsed": false
   },
   "outputs": [
    {
     "name": "stdout",
     "output_type": "stream",
     "text": [
      "                                   year  battle_number  defender_3  \\\n",
      "attacker_1                                                           \n",
      "Baratheon                    299.666667      29.000000         NaN   \n",
      "Bolton                       299.500000      21.500000         NaN   \n",
      "Bracken                      300.000000      37.000000         NaN   \n",
      "Brave Companions             300.000000      30.000000         NaN   \n",
      "Brotherhood without Banners  299.000000      23.000000         NaN   \n",
      "Darry                        299.000000      21.000000         NaN   \n",
      "Free folk                    300.000000      28.000000         NaN   \n",
      "Frey                         299.000000      26.500000         NaN   \n",
      "Greyjoy                      299.285714      16.714286         NaN   \n",
      "Lannister                    298.625000      14.375000         NaN   \n",
      "Stark                        298.625000      12.500000         NaN   \n",
      "\n",
      "                             defender_4  major_death  major_capture  \\\n",
      "attacker_1                                                            \n",
      "Baratheon                           NaN        0.400       0.200000   \n",
      "Bolton                              NaN        0.500       0.000000   \n",
      "Bracken                             NaN        0.000       1.000000   \n",
      "Brave Companions                    NaN        0.000       0.000000   \n",
      "Brotherhood without Banners         NaN        0.000       0.000000   \n",
      "Darry                               NaN        0.000       0.000000   \n",
      "Free folk                           NaN        1.000       1.000000   \n",
      "Frey                                NaN        0.500       1.000000   \n",
      "Greyjoy                             NaN        0.000       0.285714   \n",
      "Lannister                           NaN        0.375       0.125000   \n",
      "Stark                               NaN        0.625       0.375000   \n",
      "\n",
      "                             attacker_size  defender_size    summer  \n",
      "attacker_1                                                           \n",
      "Baratheon                         7500.000    7130.000000  0.333333  \n",
      "Bolton                             618.000    2000.000000  0.500000  \n",
      "Bracken                           1500.000            NaN  0.000000  \n",
      "Brave Companions                       NaN            NaN  0.000000  \n",
      "Brotherhood without Banners            NaN            NaN  1.000000  \n",
      "Darry                                  NaN            NaN  1.000000  \n",
      "Free folk                       100000.000    1240.000000  0.000000  \n",
      "Frey                              3500.000    3500.000000  1.000000  \n",
      "Greyjoy                            428.000            NaN  0.714286  \n",
      "Lannister                        13250.000    6024.000000  0.857143  \n",
      "Stark                             5152.375    8270.833333  1.000000  \n"
     ]
    }
   ],
   "source": [
    "median3 =data.groupby(\"attacker_1\").mean()\n",
    "print (median3)"
   ]
  },
  {
   "cell_type": "code",
   "execution_count": 11,
   "metadata": {
    "collapsed": false
   },
   "outputs": [
    {
     "name": "stdout",
     "output_type": "stream",
     "text": [
      "Brave Companions               0.026316\n",
      "Darry                          0.026316\n",
      "Greyjoy                        0.184211\n",
      "Frey                           0.052632\n",
      "Bracken                        0.026316\n",
      "Bolton                         0.052632\n",
      "Lannister                      0.210526\n",
      "Free folk                      0.026316\n",
      "Brotherhood without Banners    0.026316\n",
      "Stark                          0.210526\n",
      "Baratheon                      0.157895\n",
      "Name: attacker_1, dtype: float64\n"
     ]
    }
   ],
   "source": [
    "c4 = data[\"attacker_1\"].value_counts(sort=False, normalize= True)\n",
    "print(c4)"
   ]
  },
  {
   "cell_type": "code",
   "execution_count": 12,
   "metadata": {
    "collapsed": false
   },
   "outputs": [
    {
     "name": "stdout",
     "output_type": "stream",
     "text": [
      "Baratheon                      0.157895\n",
      "Bolton                         0.052632\n",
      "Bracken                        0.026316\n",
      "Brave Companions               0.026316\n",
      "Brotherhood without Banners    0.026316\n",
      "Darry                          0.026316\n",
      "Free folk                      0.026316\n",
      "Frey                           0.052632\n",
      "Greyjoy                        0.184211\n",
      "Lannister                      0.210526\n",
      "Stark                          0.210526\n",
      "Name: attacker_1, dtype: float64\n"
     ]
    }
   ],
   "source": [
    "battles_percent = data['attacker_1'].value_counts(sort = False, dropna = False, normalize = True)\n",
    "print (battles_percent.sort_index())"
   ]
  },
  {
   "cell_type": "code",
   "execution_count": 13,
   "metadata": {
    "collapsed": false
   },
   "outputs": [
    {
     "name": "stdout",
     "output_type": "stream",
     "text": [
      "Brave Companions               1\n",
      "Darry                          1\n",
      "Greyjoy                        7\n",
      "Frey                           2\n",
      "Bracken                        1\n",
      "Bolton                         2\n",
      "Lannister                      8\n",
      "Free folk                      1\n",
      "Brotherhood without Banners    1\n",
      "Stark                          8\n",
      "Baratheon                      6\n",
      "Name: attacker_1, dtype: int64\n",
      "                                                 name  year  battle_number  \\\n",
      "0                          Battle of the Golden Tooth   298              1   \n",
      "1                         Battle at the Mummer's Ford   298              2   \n",
      "2                                  Battle of Riverrun   298              3   \n",
      "3                            Battle of the Green Fork   298              4   \n",
      "4                       Battle of the Whispering Wood   298              5   \n",
      "5                                 Battle of the Camps   298              6   \n",
      "6                                       Sack of Darry   298              7   \n",
      "7                               Battle of Moat Cailin   299              8   \n",
      "8                            Battle of Deepwood Motte   299              9   \n",
      "9                           Battle of the Stony Shore   299             10   \n",
      "10                         Battle of Torrhen's Square   299             11   \n",
      "11                               Battle of Winterfell   299             12   \n",
      "12                           Sack of Torrhen's Square   299             13   \n",
      "13                                 Sack of Winterfell   299             14   \n",
      "14                                  Battle of Oxcross   299             15   \n",
      "15                               Siege of Storm's End   299             16   \n",
      "16                                Battle of the Fords   299             17   \n",
      "17                                  Sack of Harrenhal   299             18   \n",
      "18                                 Battle of the Crag   299             19   \n",
      "19                           Battle of the Blackwater   299             20   \n",
      "20                                     Siege of Darry   299             21   \n",
      "21                               Battle of Duskendale   299             22   \n",
      "22                       Battle of the Burning Septry   299             23   \n",
      "23                            Battle of the Ruby Ford   299             24   \n",
      "24                              Retaking of Harrenhal   299             25   \n",
      "25                                    The Red Wedding   299             26   \n",
      "26                                   Siege of Seagard   299             27   \n",
      "27                             Battle of Castle Black   300             28   \n",
      "28                                Fall of Moat Cailin   300             29   \n",
      "29                                   Sack of Saltpans   300             30   \n",
      "30                         Retaking of Deepwood Motte   300             31   \n",
      "31                       Battle of the Shield Islands   300             32   \n",
      "32  Invasion of Ryamsport, Vinetown, and Starfish ...   300             33   \n",
      "33                        Second Seige of Storm's End   300             34   \n",
      "34                               Siege of Dragonstone   300             35   \n",
      "35                                  Siege of Riverrun   300             36   \n",
      "36                                 Siege of Raventree   300             37   \n",
      "37                                Siege of Winterfell   300             38   \n",
      "\n",
      "               attacker_king             defender_king  \\\n",
      "0   Joffrey/Tommen Baratheon                Robb Stark   \n",
      "1   Joffrey/Tommen Baratheon                Robb Stark   \n",
      "2   Joffrey/Tommen Baratheon                Robb Stark   \n",
      "3                 Robb Stark  Joffrey/Tommen Baratheon   \n",
      "4                 Robb Stark  Joffrey/Tommen Baratheon   \n",
      "5                 Robb Stark  Joffrey/Tommen Baratheon   \n",
      "6   Joffrey/Tommen Baratheon                Robb Stark   \n",
      "7        Balon/Euron Greyjoy                Robb Stark   \n",
      "8        Balon/Euron Greyjoy                Robb Stark   \n",
      "9        Balon/Euron Greyjoy                Robb Stark   \n",
      "10                Robb Stark       Balon/Euron Greyjoy   \n",
      "11       Balon/Euron Greyjoy                Robb Stark   \n",
      "12       Balon/Euron Greyjoy       Balon/Euron Greyjoy   \n",
      "13  Joffrey/Tommen Baratheon                Robb Stark   \n",
      "14                Robb Stark  Joffrey/Tommen Baratheon   \n",
      "15         Stannis Baratheon           Renly Baratheon   \n",
      "16  Joffrey/Tommen Baratheon                Robb Stark   \n",
      "17                Robb Stark  Joffrey/Tommen Baratheon   \n",
      "18                Robb Stark  Joffrey/Tommen Baratheon   \n",
      "19         Stannis Baratheon  Joffrey/Tommen Baratheon   \n",
      "20                Robb Stark  Joffrey/Tommen Baratheon   \n",
      "21                Robb Stark  Joffrey/Tommen Baratheon   \n",
      "22                       NaN                       NaN   \n",
      "23  Joffrey/Tommen Baratheon                Robb Stark   \n",
      "24  Joffrey/Tommen Baratheon                       NaN   \n",
      "25  Joffrey/Tommen Baratheon                Robb Stark   \n",
      "26                Robb Stark  Joffrey/Tommen Baratheon   \n",
      "27         Stannis Baratheon              Mance Rayder   \n",
      "28  Joffrey/Tommen Baratheon       Balon/Euron Greyjoy   \n",
      "29                       NaN                       NaN   \n",
      "30         Stannis Baratheon       Balon/Euron Greyjoy   \n",
      "31       Balon/Euron Greyjoy  Joffrey/Tommen Baratheon   \n",
      "32       Balon/Euron Greyjoy  Joffrey/Tommen Baratheon   \n",
      "33  Joffrey/Tommen Baratheon         Stannis Baratheon   \n",
      "34  Joffrey/Tommen Baratheon         Stannis Baratheon   \n",
      "35  Joffrey/Tommen Baratheon                Robb Stark   \n",
      "36  Joffrey/Tommen Baratheon                Robb Stark   \n",
      "37         Stannis Baratheon  Joffrey/Tommen Baratheon   \n",
      "\n",
      "                     attacker_1 attacker_2 attacker_3 attacker_4  \\\n",
      "0                     Lannister        NaN        NaN        NaN   \n",
      "1                     Lannister        NaN        NaN        NaN   \n",
      "2                     Lannister        NaN        NaN        NaN   \n",
      "3                         Stark        NaN        NaN        NaN   \n",
      "4                         Stark      Tully        NaN        NaN   \n",
      "5                         Stark      Tully        NaN        NaN   \n",
      "6                     Lannister        NaN        NaN        NaN   \n",
      "7                       Greyjoy        NaN        NaN        NaN   \n",
      "8                       Greyjoy        NaN        NaN        NaN   \n",
      "9                       Greyjoy        NaN        NaN        NaN   \n",
      "10                        Stark        NaN        NaN        NaN   \n",
      "11                      Greyjoy        NaN        NaN        NaN   \n",
      "12                      Greyjoy        NaN        NaN        NaN   \n",
      "13                       Bolton    Greyjoy        NaN        NaN   \n",
      "14                        Stark      Tully        NaN        NaN   \n",
      "15                    Baratheon        NaN        NaN        NaN   \n",
      "16                    Lannister        NaN        NaN        NaN   \n",
      "17                        Stark        NaN        NaN        NaN   \n",
      "18                        Stark        NaN        NaN        NaN   \n",
      "19                    Baratheon        NaN        NaN        NaN   \n",
      "20                        Darry        NaN        NaN        NaN   \n",
      "21                        Stark        NaN        NaN        NaN   \n",
      "22  Brotherhood without Banners        NaN        NaN        NaN   \n",
      "23                    Lannister        NaN        NaN        NaN   \n",
      "24                    Lannister        NaN        NaN        NaN   \n",
      "25                         Frey     Bolton        NaN        NaN   \n",
      "26                         Frey        NaN        NaN        NaN   \n",
      "27                    Free folk     Thenns     Giants        NaN   \n",
      "28                       Bolton        NaN        NaN        NaN   \n",
      "29             Brave Companions        NaN        NaN        NaN   \n",
      "30                    Baratheon   Karstark    Mormont     Glover   \n",
      "31                      Greyjoy        NaN        NaN        NaN   \n",
      "32                      Greyjoy        NaN        NaN        NaN   \n",
      "33                    Baratheon        NaN        NaN        NaN   \n",
      "34                    Baratheon        NaN        NaN        NaN   \n",
      "35                    Lannister       Frey        NaN        NaN   \n",
      "36                      Bracken  Lannister        NaN        NaN   \n",
      "37                    Baratheon   Karstark    Mormont     Glover   \n",
      "\n",
      "          defender_1                        ...                          \\\n",
      "0              Tully                        ...                           \n",
      "1          Baratheon                        ...                           \n",
      "2              Tully                        ...                           \n",
      "3          Lannister                        ...                           \n",
      "4          Lannister                        ...                           \n",
      "5          Lannister                        ...                           \n",
      "6              Darry                        ...                           \n",
      "7              Stark                        ...                           \n",
      "8              Stark                        ...                           \n",
      "9              Stark                        ...                           \n",
      "10           Greyjoy                        ...                           \n",
      "11             Stark                        ...                           \n",
      "12             Stark                        ...                           \n",
      "13             Stark                        ...                           \n",
      "14         Lannister                        ...                           \n",
      "15         Baratheon                        ...                           \n",
      "16             Tully                        ...                           \n",
      "17         Lannister                        ...                           \n",
      "18         Lannister                        ...                           \n",
      "19         Lannister                        ...                           \n",
      "20         Lannister                        ...                           \n",
      "21         Lannister                        ...                           \n",
      "22  Brave Companions                        ...                           \n",
      "23             Stark                        ...                           \n",
      "24  Brave Companions                        ...                           \n",
      "25             Stark                        ...                           \n",
      "26         Mallister                        ...                           \n",
      "27     Night's Watch                        ...                           \n",
      "28           Greyjoy                        ...                           \n",
      "29               NaN                        ...                           \n",
      "30           Greyjoy                        ...                           \n",
      "31            Tyrell                        ...                           \n",
      "32            Tyrell                        ...                           \n",
      "33         Baratheon                        ...                           \n",
      "34         Baratheon                        ...                           \n",
      "35             Tully                        ...                           \n",
      "36         Blackwood                        ...                           \n",
      "37            Bolton                        ...                           \n",
      "\n",
      "   major_death  major_capture  attacker_size defender_size  \\\n",
      "0          1.0            0.0        15000.0        4000.0   \n",
      "1          1.0            0.0            NaN         120.0   \n",
      "2          0.0            1.0        15000.0       10000.0   \n",
      "3          1.0            1.0        18000.0       20000.0   \n",
      "4          1.0            1.0         1875.0        6000.0   \n",
      "5          0.0            0.0         6000.0       12625.0   \n",
      "6          0.0            0.0            NaN           NaN   \n",
      "7          0.0            0.0            NaN           NaN   \n",
      "8          0.0            0.0         1000.0           NaN   \n",
      "9          0.0            0.0          264.0           NaN   \n",
      "10         0.0            0.0          244.0         900.0   \n",
      "11         0.0            1.0           20.0           NaN   \n",
      "12         0.0            1.0            NaN           NaN   \n",
      "13         1.0            0.0          618.0        2000.0   \n",
      "14         1.0            1.0         6000.0       10000.0   \n",
      "15         1.0            0.0         5000.0       20000.0   \n",
      "16         0.0            0.0        20000.0       10000.0   \n",
      "17         1.0            0.0          100.0         100.0   \n",
      "18         0.0            0.0         6000.0           NaN   \n",
      "19         1.0            1.0        21000.0        7250.0   \n",
      "20         0.0            0.0            NaN           NaN   \n",
      "21         1.0            0.0         3000.0           NaN   \n",
      "22         0.0            0.0            NaN           NaN   \n",
      "23         0.0            0.0            NaN        6000.0   \n",
      "24         1.0            0.0            NaN           NaN   \n",
      "25         1.0            1.0         3500.0        3500.0   \n",
      "26         0.0            1.0            NaN           NaN   \n",
      "27         1.0            1.0       100000.0        1240.0   \n",
      "28         0.0            0.0            NaN           NaN   \n",
      "29         0.0            0.0            NaN           NaN   \n",
      "30         0.0            0.0         4500.0         200.0   \n",
      "31         0.0            0.0            NaN           NaN   \n",
      "32         0.0            0.0            NaN           NaN   \n",
      "33         0.0            0.0            NaN         200.0   \n",
      "34         0.0            0.0         2000.0           NaN   \n",
      "35         0.0            0.0         3000.0           NaN   \n",
      "36         0.0            1.0         1500.0           NaN   \n",
      "37         NaN            NaN         5000.0        8000.0   \n",
      "\n",
      "                                   attacker_commander  \\\n",
      "0                                     Jaime Lannister   \n",
      "1                                      Gregor Clegane   \n",
      "2                        Jaime Lannister, Andros Brax   \n",
      "3   Roose Bolton, Wylis Manderly, Medger Cerwyn, H...   \n",
      "4                           Robb Stark, Brynden Tully   \n",
      "5          Robb Stark, Tytos Blackwood, Brynden Tully   \n",
      "6                                      Gregor Clegane   \n",
      "7                                   Victarion Greyjoy   \n",
      "8                                        Asha Greyjoy   \n",
      "9                                       Theon Greyjoy   \n",
      "10                         Rodrik Cassel, Cley Cerwyn   \n",
      "11                                      Theon Greyjoy   \n",
      "12                                    Dagmer Cleftjaw   \n",
      "13                        Ramsay Snow, Theon Greyjoy    \n",
      "14                          Robb Stark, Brynden Tully   \n",
      "15                  Stannis Baratheon, Davos Seaworth   \n",
      "16  Tywin Lannister, Flement Brax, Gregor Clegane,...   \n",
      "17            Roose Bolton, Vargo Hoat, Robett Glover   \n",
      "18      Robb Stark, Smalljon Umber, Black Walder Frey   \n",
      "19  Stannis Baratheon, Imry Florent, Guyard Morrig...   \n",
      "20                                    Helman Tallhart   \n",
      "21                    Robertt Glover, Helman Tallhart   \n",
      "22                                                NaN   \n",
      "23                                     Gregor Clegane   \n",
      "24                                     Gregor Clegane   \n",
      "25           Walder Frey, Roose Bolton, Walder Rivers   \n",
      "26                                        Walder Frey   \n",
      "27  Mance Rayder, Tormund Giantsbane, Harma Dogshe...   \n",
      "28                                      Ramsey Bolton   \n",
      "29                                              Rorge   \n",
      "30                  Stannis Baratheon, Alysane Mormot   \n",
      "31                   Euron Greyjoy, Victarion Greyjoy   \n",
      "32                   Euron Greyjoy, Victarion Greyjoy   \n",
      "33                          Mace Tyrell, Mathis Rowan   \n",
      "34                       Loras Tyrell, Raxter Redwyne   \n",
      "35        Daven Lannister, Ryman Fey, Jaime Lannister   \n",
      "36                     Jonos Bracken, Jaime Lannister   \n",
      "37                                  Stannis Baratheon   \n",
      "\n",
      "                                   defender_commander  summer  \\\n",
      "0                                Clement Piper, Vance     1.0   \n",
      "1                                    Beric Dondarrion     1.0   \n",
      "2                       Edmure Tully, Tytos Blackwood     1.0   \n",
      "3   Tywin Lannister, Gregor Clegane, Kevan Lannist...     1.0   \n",
      "4                                     Jaime Lannister     1.0   \n",
      "5                    Lord Andros Brax, Forley Prester     1.0   \n",
      "6                                         Lyman Darry     1.0   \n",
      "7                                                 NaN     1.0   \n",
      "8                                                 NaN     1.0   \n",
      "9                                                 NaN     1.0   \n",
      "10                                    Dagmer Cleftjaw     1.0   \n",
      "11                                         Bran Stark     1.0   \n",
      "12                                                NaN     1.0   \n",
      "13       Rodrik Cassel, Cley Cerwyn, Leobald Tallhart     1.0   \n",
      "14  Stafford Lannister, Roland Crakehall, Antario ...     1.0   \n",
      "15  Renly Baratheon, Cortnay Penrose, Loras Tyrell...     1.0   \n",
      "16         Edmure Tully, Jason Mallister, Karyl Vance     1.0   \n",
      "17                                        Amory Lorch     1.0   \n",
      "18                                       Rolph Spicer     1.0   \n",
      "19  Tyrion Lannister, Jacelyn Bywater, Sandor Cleg...     1.0   \n",
      "20                                                NaN     1.0   \n",
      "21                      Randyll Tarly, Gregor Clegane     1.0   \n",
      "22                                                NaN     1.0   \n",
      "23                       Roose Bolton, Wylis Manderly     NaN   \n",
      "24                                         Vargo Hoat     1.0   \n",
      "25                                         Robb Stark     1.0   \n",
      "26                                    Jason Mallister     1.0   \n",
      "27  Stannis Baratheon, Jon Snow, Donal Noye, Cotte...     0.0   \n",
      "28                                                NaN     0.0   \n",
      "29                                                NaN     0.0   \n",
      "30                                       Asha Greyjoy     0.0   \n",
      "31                                                NaN     0.0   \n",
      "32                                                NaN     0.0   \n",
      "33                                    Gilbert Farring     0.0   \n",
      "34                                      Rolland Storm     0.0   \n",
      "35                                      Brynden Tully     0.0   \n",
      "36                                    Tytos Blackwood     0.0   \n",
      "37                                       Roose Bolton     0.0   \n",
      "\n",
      "                                location           region  \\\n",
      "0                           Golden Tooth  The Westerlands   \n",
      "1                          Mummer's Ford   The Riverlands   \n",
      "2                               Riverrun   The Riverlands   \n",
      "3                             Green Fork   The Riverlands   \n",
      "4                        Whispering Wood   The Riverlands   \n",
      "5                               Riverrun   The Riverlands   \n",
      "6                                  Darry   The Riverlands   \n",
      "7                            Moat Cailin        The North   \n",
      "8                         Deepwood Motte        The North   \n",
      "9                            Stony Shore        The North   \n",
      "10                      Torrhen's Square        The North   \n",
      "11                            Winterfell        The North   \n",
      "12                      Torrhen's Square        The North   \n",
      "13                            Winterfell        The North   \n",
      "14                               Oxcross  The Westerlands   \n",
      "15                           Storm's End   The Stormlands   \n",
      "16                              Red Fork   The Riverlands   \n",
      "17                             Harrenhal   The Riverlands   \n",
      "18                                  Crag  The Westerlands   \n",
      "19                        King's Landing   The Crownlands   \n",
      "20                                 Darry   The Riverlands   \n",
      "21                            Duskendale   The Crownlands   \n",
      "22                                   NaN   The Riverlands   \n",
      "23                             Ruby Ford   The Riverlands   \n",
      "24                             Harrenhal   The Riverlands   \n",
      "25                             The Twins   The Riverlands   \n",
      "26                               Seagard   The Riverlands   \n",
      "27                          Castle Black  Beyond the Wall   \n",
      "28                           Moat Cailin        The North   \n",
      "29                              Saltpans   The Riverlands   \n",
      "30                        Deepwood Motte        The North   \n",
      "31                        Shield Islands        The Reach   \n",
      "32  Ryamsport, Vinetown, Starfish Harbor        The Reach   \n",
      "33                           Storm's End   The Stormlands   \n",
      "34                           Dragonstone   The Stormlands   \n",
      "35                              Riverrun   The Riverlands   \n",
      "36                             Raventree   The Riverlands   \n",
      "37                            Winterfell        The North   \n",
      "\n",
      "                                                 note  \n",
      "0                                                 NaN  \n",
      "1                                                 NaN  \n",
      "2                                                 NaN  \n",
      "3                                                 NaN  \n",
      "4                                                 NaN  \n",
      "5                                                 NaN  \n",
      "6                                                 NaN  \n",
      "7                                                 NaN  \n",
      "8                                                 NaN  \n",
      "9   Greyjoy's troop number based on the Battle of ...  \n",
      "10  Greyjoy's troop number comes from the 264 esti...  \n",
      "11  It isn't mentioned how many Stark men are left...  \n",
      "12                                                NaN  \n",
      "13  Since House Bolton betrays the Starks for Hous...  \n",
      "14                                                NaN  \n",
      "15                                                NaN  \n",
      "16                                                NaN  \n",
      "17                                                NaN  \n",
      "18                                                NaN  \n",
      "19                                                NaN  \n",
      "20                                                NaN  \n",
      "21                                                NaN  \n",
      "22                                                NaN  \n",
      "23                                                NaN  \n",
      "24                                                NaN  \n",
      "25  This observation refers to the battle against ...  \n",
      "26                                                NaN  \n",
      "27                                                NaN  \n",
      "28                                                NaN  \n",
      "29                                                NaN  \n",
      "30                                                NaN  \n",
      "31                                                NaN  \n",
      "32                                                NaN  \n",
      "33                                                NaN  \n",
      "34                                                NaN  \n",
      "35                                                NaN  \n",
      "36                                                NaN  \n",
      "37                                                NaN  \n",
      "\n",
      "[38 rows x 25 columns]\n"
     ]
    }
   ],
   "source": [
    "c1 = data[\"attacker_1\"].value_counts(sort=False, dropna=False)\n",
    "print(c1)\n",
    "print (data.sort_index())"
   ]
  },
  {
   "cell_type": "code",
   "execution_count": 14,
   "metadata": {
    "collapsed": false
   },
   "outputs": [
    {
     "data": {
      "text/plain": [
       "<matplotlib.axes._subplots.AxesSubplot at 0x2cd76f0>"
      ]
     },
     "execution_count": 14,
     "metadata": {},
     "output_type": "execute_result"
    },
    {
     "data": {
      "image/png": "[encoded data removed]",
      "text/plain": [
       "<matplotlib.figure.Figure at 0x722fe30>"
      ]
     },
     "metadata": {},
     "output_type": "display_data"
    }
   ],
   "source": [
    "data.groupby(['attacker_1', 'battle_type']).count()['name'].unstack().plot(kind = 'barh')"
   ]
  },
  {
   "cell_type": "code",
   "execution_count": 15,
   "metadata": {
    "collapsed": false
   },
   "outputs": [
    {
     "data": {
      "text/plain": [
       "<matplotlib.axes._subplots.AxesSubplot at 0x7304d90>"
      ]
     },
     "execution_count": 15,
     "metadata": {},
     "output_type": "execute_result"
    },
    {
     "data": {
      "image/png": "[encoded data removed]",
      "text/plain": [
       "<matplotlib.figure.Figure at 0x72e2810>"
      ]
     },
     "metadata": {},
     "output_type": "display_data"
    }
   ],
   "source": [
    "gotD.groupby(['Gender (1=male)', 'Dead (1 = dead)']).count()['Character'].unstack().plot(kind = 'barh')"
   ]
  },
  {
   "cell_type": "code",
   "execution_count": 22,
   "metadata": {
    "collapsed": false
   },
   "outputs": [
    {
     "ename": "NameError",
     "evalue": "name 'plt' is not defined",
     "output_type": "error",
     "traceback": [
      "\u001b[1;31m---------------------------------------------------------------------------\u001b[0m",
      "\u001b[1;31mNameError\u001b[0m                                 Traceback (most recent call last)",
      "\u001b[1;32m<ipython-input-22-a1bf0318d79b>\u001b[0m in \u001b[0;36m<module>\u001b[1;34m()\u001b[0m\n\u001b[0;32m      1\u001b[0m \u001b[1;33m\u001b[0m\u001b[0m\n\u001b[0;32m      2\u001b[0m \u001b[0mseaborn\u001b[0m\u001b[1;33m.\u001b[0m\u001b[0mcountplot\u001b[0m\u001b[1;33m(\u001b[0m\u001b[0mx\u001b[0m\u001b[1;33m=\u001b[0m\u001b[1;34m'Source'\u001b[0m\u001b[1;33m,\u001b[0m \u001b[0mdata\u001b[0m\u001b[1;33m=\u001b[0m\u001b[0mdata1\u001b[0m\u001b[1;33m)\u001b[0m\u001b[1;33m\u001b[0m\u001b[0m\n\u001b[1;32m----> 3\u001b[1;33m \u001b[0mlocs\u001b[0m\u001b[1;33m,\u001b[0m \u001b[0mlabels\u001b[0m \u001b[1;33m=\u001b[0m \u001b[0mplt\u001b[0m\u001b[1;33m.\u001b[0m\u001b[0mxticks\u001b[0m\u001b[1;33m(\u001b[0m\u001b[1;33m)\u001b[0m\u001b[1;33m\u001b[0m\u001b[0m\n\u001b[0m\u001b[0;32m      4\u001b[0m \u001b[0mplt\u001b[0m\u001b[1;33m.\u001b[0m\u001b[0msetp\u001b[0m\u001b[1;33m(\u001b[0m\u001b[0mlabels\u001b[0m\u001b[1;33m,\u001b[0m \u001b[0mrotation\u001b[0m\u001b[1;33m=\u001b[0m\u001b[1;36m90\u001b[0m\u001b[1;33m)\u001b[0m\u001b[1;33m\u001b[0m\u001b[0m\n\u001b[0;32m      5\u001b[0m \u001b[0mplt\u001b[0m\u001b[1;33m.\u001b[0m\u001b[0mxlabel\u001b[0m\u001b[1;33m(\u001b[0m\u001b[1;34m'Intervalos'\u001b[0m\u001b[1;33m)\u001b[0m\u001b[1;33m\u001b[0m\u001b[0m\n",
      "\u001b[1;31mNameError\u001b[0m: name 'plt' is not defined"
     ]
    },
    {
     "data": {
      "image/png": "[encoded data removed]",
      "text/plain": [
       "<matplotlib.figure.Figure at 0x7374d70>"
      ]
     },
     "metadata": {},
     "output_type": "display_data"
    }
   ],
   "source": [
    "\n",
    "seaborn.countplot(x='Source', data=data1)\n",
    "locs, labels = plt.xticks()\n",
    "plt.setp(labels, rotation=90)\n",
    "plt.xlabel('Intervalos')\n",
    "plt.title('Distribucion de Relaciones con otros personajes')\n",
    "plt.tight_layout()\n",
    "plt.savefig(\"01latitudesbarplot.png\")\n"
   ]
  },
  {
   "cell_type": "code",
   "execution_count": 5,
   "metadata": {
    "collapsed": false
   },
   "outputs": [
    {
     "name": "stdout",
     "output_type": "stream",
     "text": [
      "Source\n",
      "Aemon            2\n",
      "Aerys            4\n",
      "Alliser          1\n",
      "Amory            1\n",
      "Arya            16\n",
      "Balon            1\n",
      "Belwas           2\n",
      "Beric            3\n",
      "Bran             9\n",
      "Brienne          1\n",
      "Bronn            2\n",
      "Brynden          2\n",
      "Catelyn         17\n",
      "Cersei          14\n",
      "Craster          1\n",
      "Daario           2\n",
      "Daenerys        14\n",
      "Davos            2\n",
      "Eddard          12\n",
      "Eddison          1\n",
      "Edmure           4\n",
      "Gendry           1\n",
      "Gilly            1\n",
      "Gregor           5\n",
      "Hodor            2\n",
      "Hoster           1\n",
      "Irri             1\n",
      "Jaime           15\n",
      "Janos            3\n",
      "Joffrey         12\n",
      "                ..\n",
      "Melisandre       2\n",
      "Meryn            1\n",
      "Missandei        1\n",
      "Myrcella         2\n",
      "Oberyn           2\n",
      "Podrick          1\n",
      "Rattleshirt      1\n",
      "Renly            3\n",
      "Rhaegar          4\n",
      "Rickard          1\n",
      "Rickon           1\n",
      "Robb            23\n",
      "Robert           5\n",
      "Robert Arryn     1\n",
      "Roose            1\n",
      "Samwell          8\n",
      "Sandor           6\n",
      "Sansa           23\n",
      "Shae             2\n",
      "Shireen          1\n",
      "Stannis          6\n",
      "Tommen           1\n",
      "Tyrion          24\n",
      "Tywin           19\n",
      "Val              1\n",
      "Varys            1\n",
      "Viserys          2\n",
      "Walder           3\n",
      "Walton           1\n",
      "Ygritte          2\n",
      "dtype: int64\n"
     ]
    }
   ],
   "source": [
    "\n",
    "c11= data1.groupby('Source').size()\n",
    "print (c11)\n",
    "\n"
   ]
  },
  {
   "cell_type": "code",
   "execution_count": 21,
   "metadata": {
    "collapsed": false
   },
   "outputs": [
    {
     "name": "stdout",
     "output_type": "stream",
     "text": [
      "Describe number of layers data\n",
      "count        352\n",
      "unique        71\n",
      "top       Tyrion\n",
      "freq          24\n",
      "Name: Source, dtype: object\n"
     ]
    }
   ],
   "source": [
    "sldata['Source'] = sldata['Source'].astype('category')\n",
    "print (\"Describe number of layers data\")\n",
    "laydesc = sldata['Source'].describe()\n",
    "print(laydesc)"
   ]
  },
  {
   "cell_type": "code",
   "execution_count": 63,
   "metadata": {
    "collapsed": false
   },
   "outputs": [
    {
     "name": "stdout",
     "output_type": "stream",
     "text": [
      "NaN      29\n",
      " 1.0     24\n",
      " 2.0    113\n",
      " 3.0     38\n",
      " 4.0    148\n",
      "Name: incomegrp, dtype: int64\n"
     ]
    },
    {
     "name": "stderr",
     "output_type": "stream",
     "text": [
      "C:\\Python34\\lib\\site-packages\\ipykernel\\__main__.py:21: UserWarning: Boolean Series key will be reindexed to match DataFrame index.\n",
      "C:\\Python34\\lib\\site-packages\\ipykernel\\__main__.py:22: UserWarning: Boolean Series key will be reindexed to match DataFrame index.\n",
      "C:\\Python34\\lib\\site-packages\\ipykernel\\__main__.py:23: UserWarning: Boolean Series key will be reindexed to match DataFrame index.\n",
      "C:\\Python34\\lib\\site-packages\\ipykernel\\__main__.py:24: UserWarning: Boolean Series key will be reindexed to match DataFrame index.\n",
      "C:\\Python34\\lib\\site-packages\\ipykernel\\__main__.py:25: UserWarning: Boolean Series key will be reindexed to match DataFrame index.\n"
     ]
    }
   ],
   "source": [
    "def incomegrp (row):\n",
    "   if row['Source'] <= \"Arya\":\n",
    "      return 1\n",
    "   elif row['Source'] <= \"Jaime\":\n",
    "      return 2\n",
    "   elif row['Source'] <= \"Jon\":\n",
    "      return 3\n",
    "   elif row['Source'] <= \"Tyrion\":\n",
    "      return 4\n",
    "   \n",
    "   \n",
    "\n",
    "   \n",
    "   \n",
    "   \n",
    "data1['incomegrp'] = data1.apply (lambda row: incomegrp (row),axis=1)\n",
    "\n",
    "chk1 = data1['incomegrp'].value_counts(sort=False, dropna=False)\n",
    "print(chk1)\n",
    "\n",
    "sub1=data[(data1['incomegrp']== 1)]\n",
    "sub2=data[(data1['incomegrp']== 2)]\n",
    "sub3=data[(data1['incomegrp']== 3)]\n",
    "sub4=data[(data1['incomegrp']== 4)]\n",
    "sub5=data[(data1['incomegrp']== 5)]\n"
   ]
  },
  {
   "cell_type": "code",
   "execution_count": 109,
   "metadata": {
    "collapsed": false
   },
   "outputs": [
    {
     "name": "stdout",
     "output_type": "stream",
     "text": [
      "Jon      24\n",
      "Jaime    16\n",
      "Name: EJECTA, dtype: int64\n"
     ]
    }
   ],
   "source": [
    "c3 = sldata['EJECTA'].value_counts(sort=False)\n",
    "print(c3)\n"
   ]
  },
  {
   "cell_type": "code",
   "execution_count": 27,
   "metadata": {
    "collapsed": true
   },
   "outputs": [],
   "source": [
    "import numpy as np\n",
    "import pandas as pd\n",
    "import seaborn as sns\n",
    "import matplotlib as mpl\n",
    "import matplotlib.pyplot as plt\n",
    "from matplotlib.path import Path\n",
    "from matplotlib.spines import Spine\n",
    "import matplotlib.patches as mpatches\n",
    "from matplotlib.projections.polar import PolarAxes\n",
    "from matplotlib.projections import register_projection\n",
    "from collections import Counter"
   ]
  },
  {
   "cell_type": "code",
   "execution_count": 30,
   "metadata": {
    "collapsed": true
   },
   "outputs": [],
   "source": [
    "battles = pd.read_csv(\"battles.csv\")"
   ]
  },
  {
   "cell_type": "code",
   "execution_count": 33,
   "metadata": {
    "collapsed": false
   },
   "outputs": [
    {
     "data": {
      "image/png": "[encoded data removed]",
      "text/plain": [
       "<matplotlib.figure.Figure at 0x79ad850>"
      ]
     },
     "metadata": {},
     "output_type": "display_data"
    }
   ],
   "source": [
    "data = battles.groupby(\"region\").sum()[[\"major_death\", \"major_capture\"]].sort_values(\"major_death\", ascending = False).copy(deep = True)\n",
    "p = battles.region.value_counts().to_frame().merge(\n",
    "    data[[\"major_death\"]], left_index = True, right_index = True).merge(\n",
    "    data[[\"major_capture\"]], left_index = True, right_index = True).plot(\n",
    "    kind = 'bar', figsize = (15, 6), color = [\"darkgreen\", \"grey\", \"darkblue\"], rot = 0)\n",
    "_ = p.set_xlabel(\"Region\", fontsize = 14.), p.set_ylabel(\"No. de eventos\", fontsize = 14.), p.legend([\"No. de batallas\", \"Muertes mayores\", \"Mas capturas\"])"
   ]
  },
  {
   "cell_type": "code",
   "execution_count": 45,
   "metadata": {
    "collapsed": false
   },
   "outputs": [
    {
     "data": {
      "image/png": "[encoded data removed]",
      "text/plain": [
       "<matplotlib.figure.Figure at 0x73047d0>"
      ]
     },
     "metadata": {},
     "output_type": "display_data"
    }
   ],
   "source": [
    "data = battles.groupby(\"location\").sum()[[\"major_death\", \"major_capture\"]].sort_values(\"major_death\", ascending = False).copy(deep = True)\n",
    "p = battles.location.value_counts().to_frame().merge(\n",
    "    data[[\"major_death\"]], left_index = True, right_index = True).merge(\n",
    "    data[[\"major_capture\"]], left_index = True, right_index = True).plot(\n",
    "    kind = 'bar', figsize = (35, 26), color = [\"darkgreen\", \"grey\", \"darkblue\"], rot = 0)\n",
    "_ = p.set_xlabel(\"Locacion\", fontsize = 14.), p.set_ylabel(\"No. de eventos\", fontsize = 14.), p.legend([\"No. de batallas\", \"Muertes mayores\", \"Mas capturas\"])"
   ]
  },
  {
   "cell_type": "code",
   "execution_count": 49,
   "metadata": {
    "collapsed": false
   },
   "outputs": [
    {
     "data": {
      "image/png": "[encoded data removed]",
      "text/plain": [
       "<matplotlib.figure.Figure at 0x8597770>"
      ]
     },
     "metadata": {},
     "output_type": "display_data"
    }
   ],
   "source": [
    "data = battles.groupby(\"battle_type\").sum()[[\"major_death\", \"major_capture\"]].sort_values(\"major_death\", ascending = False).copy(deep = True)\n",
    "p = battles.battle_type.value_counts().to_frame().merge(\n",
    "    data[[\"major_death\"]], left_index = True, right_index = True).merge(\n",
    "    data[[\"major_capture\"]], left_index = True, right_index = True).plot(\n",
    "    kind = 'bar', figsize = (15, 6), color = [\"darkgreen\", \"grey\", \"darkblue\"], rot = 0)\n",
    "_ = p.set_xlabel(\"tipo de batallas\", fontsize = 14.), p.set_ylabel(\"No. de eventos\", fontsize = 14.), p.legend([\"No. de batallas\", \"Muertes mayores\", \"Mas capturas\"])"
   ]
  },
  {
   "cell_type": "code",
   "execution_count": 51,
   "metadata": {
    "collapsed": false
   },
   "outputs": [
    {
     "data": {
      "text/html": [
       "<div>\n",
       "<table border=\"1\" class=\"dataframe\">\n",
       "  <thead>\n",
       "    <tr style=\"text-align: right;\">\n",
       "      <th></th>\n",
       "      <th>name</th>\n",
       "      <th>year</th>\n",
       "      <th>battle_number</th>\n",
       "      <th>attacker_king</th>\n",
       "      <th>defender_king</th>\n",
       "      <th>attacker_1</th>\n",
       "      <th>attacker_2</th>\n",
       "      <th>attacker_3</th>\n",
       "      <th>attacker_4</th>\n",
       "      <th>defender_1</th>\n",
       "      <th>...</th>\n",
       "      <th>major_death</th>\n",
       "      <th>major_capture</th>\n",
       "      <th>attacker_size</th>\n",
       "      <th>defender_size</th>\n",
       "      <th>attacker_commander</th>\n",
       "      <th>defender_commander</th>\n",
       "      <th>summer</th>\n",
       "      <th>location</th>\n",
       "      <th>region</th>\n",
       "      <th>note</th>\n",
       "    </tr>\n",
       "  </thead>\n",
       "  <tbody>\n",
       "    <tr>\n",
       "      <th>0</th>\n",
       "      <td>Battle of the Golden Tooth</td>\n",
       "      <td>298</td>\n",
       "      <td>1</td>\n",
       "      <td>Joffrey/Tommen Baratheon</td>\n",
       "      <td>Robb Stark</td>\n",
       "      <td>Lannister</td>\n",
       "      <td>NaN</td>\n",
       "      <td>NaN</td>\n",
       "      <td>NaN</td>\n",
       "      <td>Tully</td>\n",
       "      <td>...</td>\n",
       "      <td>1.0</td>\n",
       "      <td>0.0</td>\n",
       "      <td>15000.0</td>\n",
       "      <td>4000.0</td>\n",
       "      <td>Jaime Lannister</td>\n",
       "      <td>Clement Piper, Vance</td>\n",
       "      <td>1.0</td>\n",
       "      <td>Golden Tooth</td>\n",
       "      <td>The Westerlands</td>\n",
       "      <td>NaN</td>\n",
       "    </tr>\n",
       "    <tr>\n",
       "      <th>1</th>\n",
       "      <td>Battle at the Mummer's Ford</td>\n",
       "      <td>298</td>\n",
       "      <td>2</td>\n",
       "      <td>Joffrey/Tommen Baratheon</td>\n",
       "      <td>Robb Stark</td>\n",
       "      <td>Lannister</td>\n",
       "      <td>NaN</td>\n",
       "      <td>NaN</td>\n",
       "      <td>NaN</td>\n",
       "      <td>Baratheon</td>\n",
       "      <td>...</td>\n",
       "      <td>1.0</td>\n",
       "      <td>0.0</td>\n",
       "      <td>NaN</td>\n",
       "      <td>120.0</td>\n",
       "      <td>Gregor Clegane</td>\n",
       "      <td>Beric Dondarrion</td>\n",
       "      <td>1.0</td>\n",
       "      <td>Mummer's Ford</td>\n",
       "      <td>The Riverlands</td>\n",
       "      <td>NaN</td>\n",
       "    </tr>\n",
       "    <tr>\n",
       "      <th>2</th>\n",
       "      <td>Battle of Riverrun</td>\n",
       "      <td>298</td>\n",
       "      <td>3</td>\n",
       "      <td>Joffrey/Tommen Baratheon</td>\n",
       "      <td>Robb Stark</td>\n",
       "      <td>Lannister</td>\n",
       "      <td>NaN</td>\n",
       "      <td>NaN</td>\n",
       "      <td>NaN</td>\n",
       "      <td>Tully</td>\n",
       "      <td>...</td>\n",
       "      <td>0.0</td>\n",
       "      <td>1.0</td>\n",
       "      <td>15000.0</td>\n",
       "      <td>10000.0</td>\n",
       "      <td>Jaime Lannister, Andros Brax</td>\n",
       "      <td>Edmure Tully, Tytos Blackwood</td>\n",
       "      <td>1.0</td>\n",
       "      <td>Riverrun</td>\n",
       "      <td>The Riverlands</td>\n",
       "      <td>NaN</td>\n",
       "    </tr>\n",
       "    <tr>\n",
       "      <th>3</th>\n",
       "      <td>Battle of the Green Fork</td>\n",
       "      <td>298</td>\n",
       "      <td>4</td>\n",
       "      <td>Robb Stark</td>\n",
       "      <td>Joffrey/Tommen Baratheon</td>\n",
       "      <td>Stark</td>\n",
       "      <td>NaN</td>\n",
       "      <td>NaN</td>\n",
       "      <td>NaN</td>\n",
       "      <td>Lannister</td>\n",
       "      <td>...</td>\n",
       "      <td>1.0</td>\n",
       "      <td>1.0</td>\n",
       "      <td>18000.0</td>\n",
       "      <td>20000.0</td>\n",
       "      <td>Roose Bolton, Wylis Manderly, Medger Cerwyn, H...</td>\n",
       "      <td>Tywin Lannister, Gregor Clegane, Kevan Lannist...</td>\n",
       "      <td>1.0</td>\n",
       "      <td>Green Fork</td>\n",
       "      <td>The Riverlands</td>\n",
       "      <td>NaN</td>\n",
       "    </tr>\n",
       "    <tr>\n",
       "      <th>4</th>\n",
       "      <td>Battle of the Whispering Wood</td>\n",
       "      <td>298</td>\n",
       "      <td>5</td>\n",
       "      <td>Robb Stark</td>\n",
       "      <td>Joffrey/Tommen Baratheon</td>\n",
       "      <td>Stark</td>\n",
       "      <td>Tully</td>\n",
       "      <td>NaN</td>\n",
       "      <td>NaN</td>\n",
       "      <td>Lannister</td>\n",
       "      <td>...</td>\n",
       "      <td>1.0</td>\n",
       "      <td>1.0</td>\n",
       "      <td>1875.0</td>\n",
       "      <td>6000.0</td>\n",
       "      <td>Robb Stark, Brynden Tully</td>\n",
       "      <td>Jaime Lannister</td>\n",
       "      <td>1.0</td>\n",
       "      <td>Whispering Wood</td>\n",
       "      <td>The Riverlands</td>\n",
       "      <td>NaN</td>\n",
       "    </tr>\n",
       "  </tbody>\n",
       "</table>\n",
       "<p>5 rows × 25 columns</p>\n",
       "</div>"
      ],
      "text/plain": [
       "                            name  year  battle_number  \\\n",
       "0     Battle of the Golden Tooth   298              1   \n",
       "1    Battle at the Mummer's Ford   298              2   \n",
       "2             Battle of Riverrun   298              3   \n",
       "3       Battle of the Green Fork   298              4   \n",
       "4  Battle of the Whispering Wood   298              5   \n",
       "\n",
       "              attacker_king             defender_king attacker_1 attacker_2  \\\n",
       "0  Joffrey/Tommen Baratheon                Robb Stark  Lannister        NaN   \n",
       "1  Joffrey/Tommen Baratheon                Robb Stark  Lannister        NaN   \n",
       "2  Joffrey/Tommen Baratheon                Robb Stark  Lannister        NaN   \n",
       "3                Robb Stark  Joffrey/Tommen Baratheon      Stark        NaN   \n",
       "4                Robb Stark  Joffrey/Tommen Baratheon      Stark      Tully   \n",
       "\n",
       "  attacker_3 attacker_4 defender_1 ...  major_death  major_capture  \\\n",
       "0        NaN        NaN      Tully ...          1.0            0.0   \n",
       "1        NaN        NaN  Baratheon ...          1.0            0.0   \n",
       "2        NaN        NaN      Tully ...          0.0            1.0   \n",
       "3        NaN        NaN  Lannister ...          1.0            1.0   \n",
       "4        NaN        NaN  Lannister ...          1.0            1.0   \n",
       "\n",
       "   attacker_size defender_size  \\\n",
       "0        15000.0        4000.0   \n",
       "1            NaN         120.0   \n",
       "2        15000.0       10000.0   \n",
       "3        18000.0       20000.0   \n",
       "4         1875.0        6000.0   \n",
       "\n",
       "                                  attacker_commander  \\\n",
       "0                                    Jaime Lannister   \n",
       "1                                     Gregor Clegane   \n",
       "2                       Jaime Lannister, Andros Brax   \n",
       "3  Roose Bolton, Wylis Manderly, Medger Cerwyn, H...   \n",
       "4                          Robb Stark, Brynden Tully   \n",
       "\n",
       "                                  defender_commander  summer         location  \\\n",
       "0                               Clement Piper, Vance     1.0     Golden Tooth   \n",
       "1                                   Beric Dondarrion     1.0    Mummer's Ford   \n",
       "2                      Edmure Tully, Tytos Blackwood     1.0         Riverrun   \n",
       "3  Tywin Lannister, Gregor Clegane, Kevan Lannist...     1.0       Green Fork   \n",
       "4                                    Jaime Lannister     1.0  Whispering Wood   \n",
       "\n",
       "            region note  \n",
       "0  The Westerlands  NaN  \n",
       "1   The Riverlands  NaN  \n",
       "2   The Riverlands  NaN  \n",
       "3   The Riverlands  NaN  \n",
       "4   The Riverlands  NaN  \n",
       "\n",
       "[5 rows x 25 columns]"
      ]
     },
     "execution_count": 51,
     "metadata": {},
     "output_type": "execute_result"
    }
   ],
   "source": [
    "battles.head()"
   ]
  },
  {
   "cell_type": "code",
   "execution_count": 52,
   "metadata": {
    "collapsed": false
   },
   "outputs": [
    {
     "data": {
      "text/plain": [
       "<matplotlib.axes._subplots.AxesSubplot at 0x79e2d70>"
      ]
     },
     "execution_count": 52,
     "metadata": {},
     "output_type": "execute_result"
    },
    {
     "data": {
      "image/png": "[encoded data removed]",
      "text/plain": [
       "<matplotlib.figure.Figure at 0x75c7810>"
      ]
     },
     "metadata": {},
     "output_type": "display_data"
    }
   ],
   "source": [
    "battles.groupby(['attacker_king', 'defender_king']).count()['name'].plot(kind = 'barh')"
   ]
  },
  {
   "cell_type": "code",
   "execution_count": null,
   "metadata": {
    "collapsed": true
   },
   "outputs": [],
   "source": []
  }
 ],
 "metadata": {
  "kernelspec": {
   "display_name": "Python 3",
   "language": "python",
   "name": "python3"
  },
  "language_info": {
   "codemirror_mode": {
    "name": "ipython",
    "version": 3
   },
   "file_extension": ".py",
   "mimetype": "text/x-python",
   "name": "python",
   "nbconvert_exporter": "python",
   "pygments_lexer": "ipython3",
   "version": "3.4.3"
  }
 },
 "nbformat": 4,
 "nbformat_minor": 0
}
